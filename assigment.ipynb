{
 "cells": [
  {
   "cell_type": "code",
   "execution_count": null,
   "metadata": {},
   "outputs": [],
   "source": [
    "\n",
    "import numpy as np #this for mathematical operations \n",
    "import matplotlib.pyplot as plt # this for the graphs "
   ]
  },
  {
   "cell_type": "code",
   "execution_count": null,
   "metadata": {},
   "outputs": [],
   "source": [
    "# declaring and assigning values to the param variables \n",
    "k = 0.1\n",
    "A = 1\n",
    "d = 0.1\n",
    "Te = 300\n",
    "T0 = 500\n",
    "dt = 0.1\n",
    "tfinal = 100"
   ]
  },
  {
   "cell_type": "code",
   "execution_count": null,
   "metadata": {},
   "outputs": [],
   "source": [
    "time = np.arange(0, tfinal, dt) #an array with initial value 0 and interval 0.1 to 100\n",
    "temperature = np.zeros_like(time) # creating an array like time with populated values of 0 in the positions \n",
    "temperature[0] = T0  # setting the nitial temperature to zero"
   ]
  },
  {
   "cell_type": "code",
   "execution_count": null,
   "metadata": {},
   "outputs": [],
   "source": [
    "#for loop to change values in the positions after the calculation is done \n",
    "for i in range(1, len(time)):\n",
    "    dq_dt = -k * A * (temperature[i-1] - Te) / d\n",
    "    temperature[i] = temperature[i-1] + dq_dt * dt"
   ]
  },
  {
   "cell_type": "code",
   "execution_count": null,
   "metadata": {},
   "outputs": [],
   "source": [
    "heat_input = -k * A * (temperature - Te) * dt"
   ]
  },
  {
   "cell_type": "code",
   "execution_count": null,
   "metadata": {},
   "outputs": [],
   "source": [
    "# Plotting the temperature versus time\n",
    "plt.plot(time, temperature)\n",
    "plt.xlabel('Time (t)')\n",
    "plt.ylabel('Temperature (T)')\n",
    "plt.title('Temperature Evolution Over Time (Euler\\'s Method)')\n",
    "plt.show()"
   ]
  },
  {
   "cell_type": "code",
   "execution_count": null,
   "metadata": {},
   "outputs": [],
   "source": [
    "# Calculate specific heat capacity (Cp/V)\n",
    "heat_input = -k * A * (temperature - Te) * dt\n",
    "plt.plot(heat_input, temperature)\n",
    "plt.xlabel('Heat Input (Q)')\n",
    "plt.ylabel('Temperature (T)')\n",
    "plt.title('Temperature vs Heat Input (Euler\\'s Method)')\n",
    "plt.show()"
   ]
  },
  {
   "cell_type": "code",
   "execution_count": null,
   "metadata": {},
   "outputs": [],
   "source": [
    "slope, _ = np.polyfit(heat_input, temperature, 1)\n",
    "specific_heat_capacity = slope / A\n",
    "\n",
    "print(f\"Specific Heat Capacity (Cp/V) using the Euler's method: {specific_heat_capacity}\")"
   ]
  }
 ],
 "metadata": {
  "language_info": {
   "name": "python"
  }
 },
 "nbformat": 4,
 "nbformat_minor": 2
}
